{
 "cells": [
  {
   "cell_type": "code",
   "execution_count": null,
   "id": "5f1c9d24",
   "metadata": {},
   "outputs": [],
   "source": [
    "import pandas as pd\n",
    "import numpy as np\n",
    "import unicodedata\n",
    "import string\n",
    "import re\n",
    "import json\n",
    "import spacy\n",
    "from medspacy.section_detection import Sectionizer\n",
    "from tqdm import tqdm\n",
    "from sinai_sectionizer.text_preprocessing import text_preprocessing\n",
    "from sinai_sectionizer.sectionize_and_select import sectionize, select_headers\n",
    "from IPython.display import display, Markdown\n",
    "import matplotlib.pyplot as plt"
   ]
  },
  {
   "cell_type": "code",
   "execution_count": null,
   "outputs": [],
   "source": [
    "#File names\n",
    "\n",
    "NOTE_FILE = ''\n",
    "PREPROCESSED_NOTE_FILE = ''\n"
   ],
   "metadata": {
    "collapsed": false,
    "pycharm": {
     "name": "#%%\n"
    }
   }
  },
  {
   "cell_type": "code",
   "execution_count": null,
   "id": "1c89d818",
   "metadata": {},
   "outputs": [],
   "source": [
    "notes = pd.read_parquet(NOTE_FILE)\n",
    "notes = notes.reset_index(drop='__null_dask_index__')"
   ]
  },
  {
   "cell_type": "code",
   "execution_count": null,
   "id": "57cc059a-5ff9-47ff-b427-e0895c35f14b",
   "metadata": {
    "scrolled": true
   },
   "outputs": [],
   "source": [
    "notes['preprocessedText'] = [text_preprocessing(t, './modify_headers.json') for t in notes.Text]\n",
    "notes.to_parquet(PREPROCESSED_NOTE_FILE)"
   ]
  },
  {
   "cell_type": "code",
   "execution_count": null,
   "id": "e407167e-1e99-4554-9c3a-090a63d47abc",
   "metadata": {
    "scrolled": true
   },
   "outputs": [],
   "source": [
    "output = select_headers(dt_path=PREPROCESSED_NOTE_FILE,\n",
    "                        headers_path='./headers_psych.json',\n",
    "                        list_sections=['chief_complaint', 'history_of_present_illness', 'collateral', 'mental_status'])"
   ]
  },
  {
   "cell_type": "code",
   "execution_count": null,
   "id": "38759ec7-a4e7-4ee9-89d6-0d06bd229aec",
   "metadata": {},
   "outputs": [],
   "source": [
    "sectionized_notes = pd.read_parquet('notes_with_headers-MM-DD-YYY-HH:MM:SS.parquet')"
   ]
  },
  {
   "cell_type": "markdown",
   "id": "704bfeb1-d949-4415-b567-d68c9ac5f515",
   "metadata": {},
   "source": [
    "### Notes that need to be manually checked\n",
    "No headers were found"
   ]
  },
  {
   "cell_type": "code",
   "execution_count": null,
   "id": "902d4cb2-d2aa-46b6-9355-f8d449e8c919",
   "metadata": {},
   "outputs": [],
   "source": [
    "check_notes = pd.read_parquet('notes_to_check/notes_no_selected_headers-MM-DD-YYY-HH:MM:SS.parquet')"
   ]
  },
  {
   "cell_type": "code",
   "execution_count": null,
   "id": "3847f12c-dc83-450e-b7a1-9d6c85421436",
   "metadata": {},
   "outputs": [],
   "source": [
    "check_notes"
   ]
  },
  {
   "cell_type": "code",
   "execution_count": null,
   "id": "beb9c66c-0742-4362-9746-a76c1dbbba86",
   "metadata": {},
   "outputs": [],
   "source": []
  }
 ],
 "metadata": {
  "kernelspec": {
   "display_name": "Python 3 (ipykernel)",
   "language": "python",
   "name": "python3"
  },
  "language_info": {
   "codemirror_mode": {
    "name": "ipython",
    "version": 3
   },
   "file_extension": ".py",
   "mimetype": "text/x-python",
   "name": "python",
   "nbconvert_exporter": "python",
   "pygments_lexer": "ipython3",
   "version": "3.11.0"
  }
 },
 "nbformat": 4,
 "nbformat_minor": 5
}